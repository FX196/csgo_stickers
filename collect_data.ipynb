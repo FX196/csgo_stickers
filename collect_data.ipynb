{
 "cells": [
  {
   "cell_type": "markdown",
   "metadata": {},
   "source": [
    "# Scraping data from steam market"
   ]
  },
  {
   "cell_type": "code",
   "execution_count": 4,
   "metadata": {
    "collapsed": true
   },
   "outputs": [],
   "source": [
    "# Team and Tournament names\n",
    "tournament_names = [\n",
    "    \"2018 FACEIT London\", \"2018 ELEAGUE Boston\", \"2017 PGL Krakow\",\n",
    "    \"2017 ELEAGUE Atlanta\", \"2016 MLG Columbus\", \"2016 ESL One Cologne\",\n",
    "    \"2015 ESL One Cologne\", \"2015 DreamHack Cluj-Napoca\",\n",
    "    \"2015 ESL One Katowice\", \"2014 ESL One Cologne\"\n",
    "]\n",
    "\n",
    "tournaments = {}\n",
    "tournaments[\"London 2018\"] = [\n",
    "    \"compLexity Gaming\", \"Team Liquid\", \"Astralis\", \"Natus Vincere\", \"BIG\",\n",
    "    \"FaZe Clan\", \"HellRaisers\", \"MIBR\", \"Ninjas in Pyjamas\", \"Fnatic\",\n",
    "    \"G2 Esports\", \"Vega Squadron\", \"Cloud9\", \"TYLOO\", \"Winstrike Team\",\n",
    "    \"mousesports\"\n",
    "]\n",
    "tournaments[\"Boston 2018\"] = [\n",
    "    \"Cloud9\", \"G2 Esports\", \"FaZe Clan\", \"Vega Squadron\", \"Space Soldiers\",\n",
    "    \"mousesports\", \"Natus Vincere\", \"Quantum Bellator Fire\", \"Team Liquid\",\n",
    "    \"Renegades\", \"AVANGAR\", \"Sprout\", \"Team Envy\", \"Misfits Gaming\",\n",
    "    \"Flash Gaming\", \"FlipSid3 Tactics\"\n",
    "]\n",
    "tournaments[\"Krakow 2017\"] = [\n",
    "    \"Gambit Esports\", \"BIG\", \"SK Gaming\", \"North\", \"Astralis\", \"Virtus.pro\",\n",
    "    \"Immortals\", \"Fnatic\", \"Cloud9\", \"FlipSid3 Tactics\", \"G2 Esports\",\n",
    "    \"Natus Vincere\", \"mousesports\", \"PENTA Sports\", \"FaZe Clan\",\n",
    "    \"Vega Squadron\"\n",
    "]\n",
    "tournaments[\"Atlanta 2017\"] = [\n",
    "    \"Gambit Esports\", \"Team Liquid\", \"SK Gaming\", \"North\", \"Astralis\", \"Virtus.pro\",\n",
    "    \"GODSENT\", \"Fnatic\", \"OpTic Gaming\", \"FlipSid3 Tactics\", \"G2 Esports\",\n",
    "    \"Natus Vincere\", \"mousesports\", \"Team EnVyUs\", \"FaZe Clan\", \"HellRaisers\"\n",
    "]\n",
    "tournaments[\"Columbus 2016\"] = [\n",
    "    \"Ninjas in Pyjamas\", \"G2 Esports\", \"Splyce\", \"Cloud9\", \"Team EnVyUs\", \"Virtus.pro\",\n",
    "    \"Astralis\", \"Fnatic\", \"Counter Logic Gaming\", \"Team Liquid\", \"FaZe Clan\",\n",
    "    \"Natus Vincere\", \"Gambit Gaming\", \"FlipSid3 Tactics\", \"mousesports\", \"Luminosity Gaming\"\n",
    "]\n",
    "tournaments[\"Cologne 2016\"] = [\n",
    "    \"Ninjas in Pyjamas\", \"G2 Esports\", \"OpTic Gaming\", \"Team Dignitas\", \"Team EnVyUs\", \"Virtus.pro\",\n",
    "    \"Astralis\", \"Fnatic\", \"Counter Logic Gaming\", \"Team Liquid\", \"FaZe Clan\",\n",
    "    \"Natus Vincere\", \"Gambit Gaming\", \"FlipSid3 Tactics\", \"mousesports\", \"SK Gaming\"\n",
    "]\n",
    "tournaments[\"Cologne 2015\"] = [\n",
    "    \"Ninjas in Pyjamas\", \"Titan\", \"Luminosity Gaming\", \"Cloud9\", \"Team EnVyUs\", \"Virtus.pro\",\n",
    "    \"Team SoloMid\", \"Fnatic\", \"Counter Logic Gaming\", \"Team Immunity\", \"Team Kinguin\",\n",
    "    \"Natus Vincere\", \"Team eBettle\", \"FlipSid3 Tactics\", \"mousesports\", \"Renegades\"\n",
    "]\n",
    "tournaments[\"Cluj-Napoca 2015\"] = [\n",
    "    \"Ninjas in Pyjamas\", \"G2 Esports\", \"Cloud9\", \"Team Dignitas\", \"Team EnVyUs\", \"Virtus.pro\",\n",
    "    \"Team SoloMid\", \"Fnatic\", \"Counter Logic Gaming\", \"Team Liquid\", \"Titan\",\n",
    "    \"Natus Vincere\", \"Vexed Gaming\", \"FlipSid3 Tactics\", \"mousesports\", \"Luminosity Gaming\"\n",
    "]\n",
    "tournaments[\"Katowice 2015\"] = [\n",
    "    \"Ninjas in Pyjamas\", \"PENTA Sports\", \"Cloud9\", \"HellRaisers\", \"Team EnVyUs\", \"Virtus.pro\",\n",
    "    \"Team SoloMid\", \"Fnatic\", \"Counter Logic Gaming\", \"LGB eSports\", \"Titan\",\n",
    "    \"Natus Vincere\", \"3DMAX\", \"FlipSid3 Tactics\", \"Vox Eminor\", \"Keyd Stars\"\n",
    "]\n",
    "tournaments[\"Cologne 2014\"] = [\n",
    "    \"Ninjas in Pyjamas\", \"Team Dignitas\", \"Cloud9\", \"HellRaisers\", \"Team LDLC.com\", \"Virtus.pro\",\n",
    "    \"London Conspiracy\", \"Fnatic\", \"dAT Team\", \"Epsilon eSports\", \"Titan\",\n",
    "    \"Natus Vincere\", \"Copenhagen Wolves\", \"Team iBUYPOWER\", \"Vox Eminor\", \"MTS GameGod Wolf\"\n",
    "]"
   ]
  },
  {
   "cell_type": "code",
   "execution_count": 5,
   "metadata": {
    "collapsed": true
   },
   "outputs": [],
   "source": [
    "# imports\n",
    "import requests\n",
    "import urllib\n",
    "import urllib3\n",
    "import bs4\n",
    "import json\n",
    "import time\n",
    "from Crypto.PublicKey import RSA\n",
    "from Crypto.Hash import SHA\n",
    "from Crypto.Cipher import PKCS1_v1_5\n",
    "import base64\n",
    "from IPython.display import Image"
   ]
  },
  {
   "cell_type": "code",
   "execution_count": 6,
   "metadata": {},
   "outputs": [
    {
     "name": "stdout",
     "output_type": "stream",
     "text": [
      "Successfully retrieved RSA key\n",
      "Successfully logged in\n"
     ]
    }
   ],
   "source": [
    "# logging into steam\n",
    "session = requests.session()  # using a session to maintain login status\n",
    "\n",
    "\n",
    "# first, get the RSA key from Steam\n",
    "username = \"CalHacks_TestAccount\"\n",
    "password = b\"CalHacks\"\n",
    "rsa_key_url = 'https://steamcommunity.com/login/getrsakey/'\n",
    "get_rsa_payload = {\n",
    "    'username': username,\n",
    "    'donotcache': str(int(time.time() * 1000))\n",
    "}\n",
    "\n",
    "get_rsa_response = session.post(rsa_key_url, data=get_rsa_payload)\n",
    "rsa_key = json.loads(get_rsa_response.text)\n",
    "if rsa_key[\"success\"]:\n",
    "    print(\"Successfully retrieved RSA key\")\n",
    "# RSA public key has now been retrieved\n",
    "\n",
    "\n",
    "# Use public key to encrypt password\n",
    "mod = int(str(rsa_key[\"publickey_mod\"]), 16)\n",
    "exp = int(str(rsa_key[\"publickey_exp\"]), 16)\n",
    "key = RSA.construct((mod, exp))\n",
    "cipher = PKCS1_v1_5.new(key)\n",
    "encrypted_password = base64.b64encode(cipher.encrypt(password))\n",
    "\n",
    "\n",
    "# Use encrypted password to login. Docs: https://bitbucket.org/Aerizeon/steamweb\n",
    "login_url = 'https://steamcommunity.com/login/dologin/'\n",
    "login_payload = {\n",
    "    \"password\": encrypted_password,\n",
    "    \"username\": username,\n",
    "    \"rsatimestamp\": rsa_key[\"timestamp\"],\n",
    "    \"oauth_client_id\": \"DE45CD61\",\n",
    "    \"donotcache\": str(int(time.time() * 1000)),\n",
    "}\n",
    "login_response = session.post(login_url, data=login_payload)\n",
    "login_data = json.loads(login_response.text)\n",
    "if login_data[\"success\"]:\n",
    "    print(\"Successfully logged in\")\n",
    "else:\n",
    "    if login_data[\"emailauth_needed\"]:\n",
    "        auth_code = input(\"Email authentication code needed: \")\n",
    "        login_payload = {\n",
    "            \"password\": encrypted_password,\n",
    "            \"username\": username,\n",
    "            \"rsatimestamp\": rsa_key[\"timestamp\"],\n",
    "            \"oauth_client_id\": \"DE45CD61\",\n",
    "            \"donotcache\": str(int(time.time() * 1000)),\n",
    "            \"emailauth\": auth_code\n",
    "        }\n",
    "        login_response = session.post(login_url, data=login_payload)\n",
    "        login_data = json.loads(login_response.text)\n",
    "    else:\n",
    "        print(\"Unexpected error with login, printing response\")\n",
    "        print(login_data)"
   ]
  },
  {
   "cell_type": "code",
   "execution_count": 20,
   "metadata": {},
   "outputs": [
    {
     "data": {
      "text/plain": [
       "'Sticker%20%7C%20Cloud9%20%7C%20London%202018'"
      ]
     },
     "execution_count": 20,
     "metadata": {},
     "output_type": "execute_result"
    }
   ],
   "source": [
    "price_data = session.get(\n",
    "    (\"https://steamcommunity.com/market/pricehistory/?country=US&currency=3&appid=730&market_hash_name=\"\n",
    "     \"Sticker%20%7C%20Cloud9%20%7C%20London%202018\"))\n",
    "price_data.json()"
   ]
  },
  {
   "cell_type": "code",
   "execution_count": 32,
   "metadata": {
    "collapsed": true
   },
   "outputs": [],
   "source": [
    "basic_url = \\\n",
    "    \"https://steamcommunity.com/market/pricehistory/?country=US&currency=3&appid=730&market_hash_name=\"\n",
    "\n",
    "\n",
    "def store_data(tournament_name, team_name):\n",
    "    hash_name = \" | \".join([\"Sticker\", team_name, tournament_name])\n",
    "    hash_name = hash_name.replace(\" \", \"%20\").replace(\"|\", \"%7C\")\n",
    "    response_json = session.get(basic_url+hash_name).json()\n",
    "\n",
    "    if not response_json['success']:\n",
    "        print(\"Error in grabbing data for\", tournament_name, team_name)\n",
    "        return\n",
    "    else:\n",
    "        # successfully grabbed data, proceed with writing into csv\n",
    "        "
   ]
  },
  {
   "cell_type": "code",
   "execution_count": 31,
   "metadata": {},
   "outputs": [
    {
     "name": "stdout",
     "output_type": "stream",
     "text": [
      "Error in grabbing data for lala baba\n"
     ]
    }
   ],
   "source": []
  },
  {
   "cell_type": "code",
   "execution_count": null,
   "metadata": {
    "collapsed": true
   },
   "outputs": [],
   "source": []
  },
  {
   "cell_type": "code",
   "execution_count": null,
   "metadata": {
    "collapsed": true
   },
   "outputs": [],
   "source": []
  },
  {
   "cell_type": "code",
   "execution_count": null,
   "metadata": {
    "collapsed": true
   },
   "outputs": [],
   "source": []
  },
  {
   "cell_type": "code",
   "execution_count": null,
   "metadata": {
    "collapsed": true
   },
   "outputs": [],
   "source": []
  },
  {
   "cell_type": "markdown",
   "metadata": {},
   "source": [
    "# LSTM\n",
    "\n",
    "https://www.kaggle.com/amarpreetsingh/stock-prediction-lstm-using-keras?fbclid=IwAR2nYg-1dom0KmYCU89hNTgvlzGbFI4C3r531VoFMCG-SP8TXojz9jo9f2E\n",
    "\n",
    "https://github.com/jaungiers/LSTM-Neural-Network-for-Time-Series-Prediction?fbclid=IwAR2nYg-1dom0KmYCU89hNTgvlzGbFI4C3r531VoFMCG-SP8TXojz9jo9f2E"
   ]
  },
  {
   "cell_type": "code",
   "execution_count": null,
   "metadata": {
    "collapsed": true
   },
   "outputs": [],
   "source": []
  }
 ],
 "metadata": {
  "kernelspec": {
   "display_name": "Python 3",
   "language": "python",
   "name": "python3"
  },
  "language_info": {
   "codemirror_mode": {
    "name": "ipython",
    "version": 3
   },
   "file_extension": ".py",
   "mimetype": "text/x-python",
   "name": "python",
   "nbconvert_exporter": "python",
   "pygments_lexer": "ipython3",
   "version": "3.6.3"
  }
 },
 "nbformat": 4,
 "nbformat_minor": 1
}
